{
 "cells": [
  {
   "attachments": {},
   "cell_type": "markdown",
   "metadata": {},
   "source": [
    "# AnyoneAI - Sprint Project 01\n",
    "> E-Commerce Data Pipeline\n",
    "\n",
    "In this notebook we will first execute all the components of our ELT pipeline and then plot visualizations with the resulting information.\n"
   ]
  },
  {
   "cell_type": "code",
   "execution_count": null,
   "metadata": {},
   "outputs": [],
   "source": [
    "%load_ext autoreload\n",
    "%autoreload 2"
   ]
  },
  {
   "cell_type": "code",
   "execution_count": null,
   "metadata": {},
   "outputs": [],
   "source": [
    "# Importing the necessary libraries\n",
    "from pandas import DataFrame\n",
    "from sqlalchemy import create_engine\n",
    "from typing import Dict\n",
    "from pathlib import Path\n",
    "\n",
    "from src.transform import QueryEnum\n",
    "from src import config\n",
    "from src.transform import run_queries\n",
    "from src.extract import extract\n",
    "from src.load import load\n",
    "from src.plots import (\n",
    "    plot_freight_value_weight_relationship,\n",
    "    plot_global_amount_order_status,\n",
    "    plot_real_vs_predicted_delivered_time,\n",
    "    plot_revenue_by_month_year,\n",
    "    plot_revenue_per_state,\n",
    "    plot_top_10_least_revenue_categories,\n",
    "    plot_top_10_revenue_categories,\n",
    "    plot_top_10_revenue_categories_ammount,\n",
    "    plot_delivery_date_difference,\n",
    "    plot_order_amount_per_day_with_holidays,\n",
    ")"
   ]
  },
  {
   "cell_type": "code",
   "execution_count": null,
   "metadata": {},
   "outputs": [],
   "source": [
    "# Create the database sql file\n",
    "Path(config.SQLITE_BD_ABSOLUTE_PATH).touch()\n",
    "\n",
    "# Create the database connection\n",
    "ENGINE = create_engine(rf\"sqlite:///{config.SQLITE_BD_ABSOLUTE_PATH}\", echo=False)"
   ]
  },
  {
   "attachments": {},
   "cell_type": "markdown",
   "metadata": {},
   "source": [
    "### 1. Extract"
   ]
  },
  {
   "attachments": {},
   "cell_type": "markdown",
   "metadata": {},
   "source": [
    "Here you will be extracting the information from different sources."
   ]
  },
  {
   "cell_type": "code",
   "execution_count": null,
   "metadata": {},
   "outputs": [],
   "source": [
    "csv_folder = config.DATASET_ROOT_PATH\n",
    "public_holidays_url = config.PUBLIC_HOLIDAYS_URL\n",
    "\n",
    "# 1. Get the mapping of the csv files to the table names.\n",
    "csv_table_mapping = config.get_csv_to_table_mapping()\n",
    "\n",
    "# 2. Extract the data from the csv files, holidays and load them into the dataframes.\n",
    "csv_dataframes = extract(csv_folder, csv_table_mapping, public_holidays_url)"
   ]
  },
  {
   "attachments": {},
   "cell_type": "markdown",
   "metadata": {},
   "source": [
    "### 2. Load"
   ]
  },
  {
   "attachments": {},
   "cell_type": "markdown",
   "metadata": {},
   "source": [
    "Using the diferent datasets provided to you, you will store everything into our Data Warehouse."
   ]
  },
  {
   "cell_type": "code",
   "execution_count": null,
   "metadata": {},
   "outputs": [],
   "source": [
    "load(data_frames=csv_dataframes, database=ENGINE)"
   ]
  },
  {
   "attachments": {},
   "cell_type": "markdown",
   "metadata": {},
   "source": [
    "### 3. Transform"
   ]
  },
  {
   "attachments": {},
   "cell_type": "markdown",
   "metadata": {},
   "source": [
    "Here you will be transforming the different queries into tables. There are two sections, one with the revenue related queries, and another with the delivery related queries."
   ]
  },
  {
   "attachments": {},
   "cell_type": "markdown",
   "metadata": {},
   "source": [
    "##### 3.1 Revenue queries"
   ]
  },
  {
   "cell_type": "code",
   "execution_count": null,
   "metadata": {},
   "outputs": [],
   "source": [
    "query_results: Dict[str, DataFrame] = run_queries(database=ENGINE)"
   ]
  },
  {
   "cell_type": "code",
   "execution_count": null,
   "metadata": {},
   "outputs": [],
   "source": [
    "# Transforming the revenue_by_month_year query to a table\n",
    "revenue_by_month_year = query_results[QueryEnum.REVENUE_BY_MONTH_YEAR.value]\n",
    "revenue_by_month_year"
   ]
  },
  {
   "cell_type": "code",
   "execution_count": null,
   "metadata": {},
   "outputs": [],
   "source": [
    "# Transforming the top_10_revenue_categories query to a table\n",
    "top_10_revenue_categories = query_results[QueryEnum.TOP_10_REVENUE_CATEGORIES.value]\n",
    "top_10_revenue_categories"
   ]
  },
  {
   "cell_type": "code",
   "execution_count": null,
   "metadata": {},
   "outputs": [],
   "source": [
    "# Transforming the top_10_least_revenue_categories query to a table\n",
    "top_10_least_revenue_categories = query_results[\n",
    "    QueryEnum.TOP_10_LEAST_REVENUE_CATEGORIES.value\n",
    "]\n",
    "top_10_least_revenue_categories"
   ]
  },
  {
   "cell_type": "code",
   "execution_count": null,
   "metadata": {},
   "outputs": [],
   "source": [
    "# Transforming the revenue_per_state query to a table\n",
    "revenue_per_state = query_results[QueryEnum.REVENUE_PER_STATE.value]\n",
    "revenue_per_state"
   ]
  },
  {
   "attachments": {},
   "cell_type": "markdown",
   "metadata": {},
   "source": [
    "##### 3.2 Delivery queries"
   ]
  },
  {
   "cell_type": "code",
   "execution_count": null,
   "metadata": {},
   "outputs": [],
   "source": [
    "# Transforming the delivery_date_difference query to a table\n",
    "delivery_date_difference = query_results[QueryEnum.DELIVERY_DATE_DIFFERECE.value]\n",
    "delivery_date_difference"
   ]
  },
  {
   "cell_type": "code",
   "execution_count": null,
   "metadata": {},
   "outputs": [],
   "source": [
    "# Transforming the real vs predicted delivered time query to a table per month and year\n",
    "real_vs_estimated_delivered_time = query_results[\n",
    "    QueryEnum.REAL_VS_ESTIMATED_DELIVERED_TIME.value\n",
    "]\n",
    "real_vs_estimated_delivered_time"
   ]
  },
  {
   "cell_type": "code",
   "execution_count": null,
   "metadata": {},
   "outputs": [],
   "source": [
    "# Transforming the global ammount of order status query to a table\n",
    "global_ammount_order_status = query_results[QueryEnum.GLOBAL_AMMOUNT_ORDER_STATUS.value]\n",
    "global_ammount_order_status"
   ]
  },
  {
   "cell_type": "code",
   "execution_count": null,
   "metadata": {},
   "outputs": [],
   "source": [
    "orders_per_day_and_holidays = query_results[\n",
    "    QueryEnum.ORDERS_PER_DAY_AND_HOLIDAYS_2017.value\n",
    "]\n",
    "orders_per_day_and_holidays"
   ]
  },
  {
   "cell_type": "code",
   "execution_count": null,
   "metadata": {},
   "outputs": [],
   "source": [
    "freight_value_weight_relationship = query_results[\n",
    "    QueryEnum.GET_FREIGHT_VALUE_WEIGHT_RELATIONSHIP.value\n",
    "]"
   ]
  },
  {
   "attachments": {},
   "cell_type": "markdown",
   "metadata": {},
   "source": [
    "### 4. Plotting the query tables"
   ]
  },
  {
   "attachments": {},
   "cell_type": "markdown",
   "metadata": {},
   "source": [
    "Now, we will create plots from the different queries"
   ]
  },
  {
   "cell_type": "code",
   "execution_count": null,
   "metadata": {},
   "outputs": [],
   "source": [
    "plot_revenue_by_month_year(revenue_by_month_year, 2017)"
   ]
  },
  {
   "cell_type": "code",
   "execution_count": null,
   "metadata": {},
   "outputs": [],
   "source": [
    "plot_top_10_revenue_categories(top_10_revenue_categories)"
   ]
  },
  {
   "cell_type": "code",
   "execution_count": null,
   "metadata": {},
   "outputs": [],
   "source": [
    "plot_top_10_least_revenue_categories(top_10_least_revenue_categories)"
   ]
  },
  {
   "cell_type": "code",
   "execution_count": null,
   "metadata": {},
   "outputs": [],
   "source": [
    "plot_revenue_per_state(revenue_per_state)"
   ]
  },
  {
   "cell_type": "code",
   "execution_count": null,
   "metadata": {},
   "outputs": [],
   "source": [
    "plot_delivery_date_difference(delivery_date_difference)"
   ]
  },
  {
   "cell_type": "code",
   "execution_count": null,
   "metadata": {},
   "outputs": [],
   "source": [
    "plot_real_vs_predicted_delivered_time(real_vs_estimated_delivered_time, year=2017)"
   ]
  },
  {
   "cell_type": "code",
   "execution_count": null,
   "metadata": {},
   "outputs": [],
   "source": [
    "plot_global_amount_order_status(global_ammount_order_status)"
   ]
  },
  {
   "cell_type": "code",
   "execution_count": null,
   "metadata": {},
   "outputs": [],
   "source": [
    "plot_order_amount_per_day_with_holidays(orders_per_day_and_holidays)"
   ]
  },
  {
   "attachments": {},
   "cell_type": "markdown",
   "metadata": {},
   "source": [
    "The Orders per Day and Holidays plot you will code in src/plots.py has to be similar to this:"
   ]
  },
  {
   "attachments": {},
   "cell_type": "markdown",
   "metadata": {},
   "source": [
    "![The plot you will code will be similar to this:](images/orders_per_day_and_holidays.png \"Orders per Day and Holidays\")"
   ]
  },
  {
   "attachments": {},
   "cell_type": "markdown",
   "metadata": {},
   "source": [
    "4.1 Do you see any relationship between the Brazilian public holidays of 2017 and that year's purchases?"
   ]
  },
  {
   "cell_type": "markdown",
   "metadata": {},
   "source": [
    "There is a relationship between the sales peaks on some holidays. However, to provide evidence and reach a precise conclusion, it is necessary to conduct a more detailed statistical analysis and segmentation to demonstrate this correlation."
   ]
  },
  {
   "cell_type": "code",
   "execution_count": null,
   "metadata": {},
   "outputs": [],
   "source": [
    "plot_freight_value_weight_relationship(freight_value_weight_relationship)"
   ]
  },
  {
   "attachments": {},
   "cell_type": "markdown",
   "metadata": {},
   "source": [
    "The Freight Value and Weight Relationship plot you will code in src/plots.py has to be similar to this:"
   ]
  },
  {
   "attachments": {},
   "cell_type": "markdown",
   "metadata": {},
   "source": [
    "![The plot you will code will be similar to this:](images/freight_value_weight_relationship.png \"Freight Value and Weight Relationship\")"
   ]
  },
  {
   "attachments": {},
   "cell_type": "markdown",
   "metadata": {},
   "source": [
    "4.2 Do you see any correlation between the freight value and the product weight?"
   ]
  },
  {
   "cell_type": "markdown",
   "metadata": {},
   "source": [
    "Yes, there is a positive correlation between both variables; however, it is necessary to consider certain outliers in the analysis."
   ]
  }
 ],
 "metadata": {
  "kernelspec": {
   "display_name": "base",
   "language": "python",
   "name": "python3"
  },
  "language_info": {
   "codemirror_mode": {
    "name": "ipython",
    "version": 3
   },
   "file_extension": ".py",
   "mimetype": "text/x-python",
   "name": "python",
   "nbconvert_exporter": "python",
   "pygments_lexer": "ipython3",
   "version": "3.12.7"
  },
  "orig_nbformat": 4
 },
 "nbformat": 4,
 "nbformat_minor": 2
}
